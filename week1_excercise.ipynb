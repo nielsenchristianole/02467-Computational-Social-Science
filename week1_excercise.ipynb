{
 "cells": [
  {
   "cell_type": "code",
   "execution_count": 2,
   "metadata": {},
   "outputs": [],
   "source": [
    "from psaw import PushshiftAPI\n",
    "import pandas as pd\n",
    "import numpy as np\n",
    "import matplotlib.pylab as plt\n",
    "from tqdm import tqdm\n",
    "import datetime\n",
    "\n",
    "api = PushshiftAPI()"
   ]
  },
  {
   "cell_type": "code",
   "execution_count": 3,
   "metadata": {},
   "outputs": [],
   "source": [
    "my_subreddit = 'wallstreetbets'\n",
    "query = 'GME|gamestop'\n",
    "\n",
    "date1 = int(datetime.datetime(2020,1,1).timestamp())\n",
    "date2 = int(datetime.datetime(2021,1,25).timestamp())"
   ]
  },
  {
   "cell_type": "code",
   "execution_count": 4,
   "metadata": {},
   "outputs": [],
   "source": [
    "subs = api.search_submissions(subreddit=my_subreddit,\n",
    "                              after=date1,\n",
    "                              before=date2,\n",
    "                              q=query)"
   ]
  },
  {
   "cell_type": "code",
   "execution_count": 5,
   "metadata": {},
   "outputs": [
    {
     "name": "stderr",
     "output_type": "stream",
     "text": [
      "C:\\Users\\niels\\anaconda3\\lib\\site-packages\\psaw\\PushshiftAPI.py:252: UserWarning: Not all PushShift shards are active. Query results may be incomplete\n",
      "  warnings.warn(shards_down_message)\n"
     ]
    }
   ],
   "source": [
    "df_subs = pd.DataFrame([obj.d_ for obj in subs])\n"
   ]
  },
  {
   "cell_type": "code",
   "execution_count": 14,
   "metadata": {},
   "outputs": [],
   "source": [
    "subs_keys = ['title', 'id', 'score', 'created_utc', 'author', 'num_comments']\n",
    "\n",
    "df_subs2save = df_subs[subs_keys]\n",
    "\n",
    "df_subs2save.to_csv('data_subs.csv', index=False)"
   ]
  },
  {
   "cell_type": "code",
   "execution_count": 15,
   "metadata": {},
   "outputs": [
    {
     "data": {
      "text/plain": [
       "[<matplotlib.lines.Line2D at 0x1f5024b2220>]"
      ]
     },
     "execution_count": 15,
     "metadata": {},
     "output_type": "execute_result"
    },
    {
     "data": {
      "image/png": "[encoded data removed]",
      "text/plain": [
       "<Figure size 432x288 with 1 Axes>"
      ]
     },
     "metadata": {
      "needs_background": "light"
     },
     "output_type": "display_data"
    }
   ],
   "source": [
    "time_stamps = [datetime.datetime.utcfromtimestamp(time) for time in df_subs['created_utc']]\n",
    "date_sum = pd.DataFrame(np.ones(len(df_subs)), index=time_stamps).resample('1440T').sum()\n",
    "\n",
    "plt.plot(date_sum)"
   ]
  },
  {
   "cell_type": "code",
   "execution_count": 16,
   "metadata": {},
   "outputs": [
    {
     "data": {
      "text/plain": [
       "(9375, 14715)"
      ]
     },
     "execution_count": 16,
     "metadata": {},
     "output_type": "execute_result"
    }
   ],
   "source": [
    "len(set(df_subs.author_fullname)), len(df_subs)"
   ]
  },
  {
   "cell_type": "markdown",
   "metadata": {},
   "source": [
    "### Excercise 3"
   ]
  },
  {
   "cell_type": "code",
   "execution_count": 161,
   "metadata": {},
   "outputs": [
    {
     "data": {
      "text/plain": [
       "61"
      ]
     },
     "execution_count": 161,
     "metadata": {},
     "output_type": "execute_result"
    }
   ],
   "source": [
    "old_df = pd.read_csv('data_comments.csv')\n",
    "last_id = old_df['post_link_id'][len(old_df) - 1]\n",
    "\n",
    "last_id_index = np.where(df_subs['id'] == last_id)[0][0]"
   ]
  },
  {
   "cell_type": "code",
   "execution_count": 164,
   "metadata": {},
   "outputs": [
    {
     "name": "stderr",
     "output_type": "stream",
     "text": [
      "100%|██████████| 14649/14649 [8:17:33<00:00,  2.04s/it]     \n"
     ]
    }
   ],
   "source": [
    "import os\n",
    "\n",
    "keys_comments = ['id', 'link_id', 'score', 'created_utc', 'author', 'parent_id']\n",
    "last_id_index = 0\n",
    "\n",
    "if not os.path.exists('./data_comments.csv'):\n",
    "    df_comments = pd.DataFrame(columns=keys_comments + ['post_link_id'])\n",
    "    df_comments.to_csv('data_comments.csv', index=False)\n",
    "else:\n",
    "    old_df = pd.read_csv('data_comments.csv')\n",
    "    last_id = old_df['post_link_id'][len(old_df) - 1]\n",
    "    last_id_index = np.where(df_subs['id'] == last_id)[0][0]\n",
    "    \n",
    "\n",
    "for link_id in tqdm(df_subs['id'][last_id_index:]):\n",
    "    comments = api.search_comments(subreddit='wallstreetbets',\n",
    "                                    link_id=link_id)\n",
    "    \n",
    "    temp_df = pd.DataFrame([ {key: obj.d_[key] for key in keys_comments} for obj in comments])\n",
    "    temp_df['post_link_id'] = [link_id] * len(temp_df)\n",
    "    \n",
    "    temp_df.to_csv('data_comments.csv', mode='a', index=False, header=False)\n"
   ]
  }
 ],
 "metadata": {
  "interpreter": {
   "hash": "29f777c57806fb5c80793d14bde5bf3868a8dfead144d8afdd981bb278780bcd"
  },
  "kernelspec": {
   "display_name": "Python 3.8.5 64-bit ('base': conda)",
   "language": "python",
   "name": "python3"
  },
  "language_info": {
   "codemirror_mode": {
    "name": "ipython",
    "version": 3
   },
   "file_extension": ".py",
   "mimetype": "text/x-python",
   "name": "python",
   "nbconvert_exporter": "python",
   "pygments_lexer": "ipython3",
   "version": "3.8.5"
  },
  "orig_nbformat": 4
 },
 "nbformat": 4,
 "nbformat_minor": 2
}
